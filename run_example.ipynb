{
 "cells": [
  {
   "metadata": {},
   "cell_type": "markdown",
   "source": "# Adaptive Active Learning: Example Workflow of `adaptive_al`",
   "id": "d1a94a22de4c9dc1"
  },
  {
   "metadata": {
    "ExecuteTime": {
     "end_time": "2025-10-02T20:10:47.854717Z",
     "start_time": "2025-10-02T20:10:44.223244Z"
    }
   },
   "cell_type": "code",
   "source": [
    "import torch\n",
    "from pathlib import Path\n",
    "import json\n",
    "\n",
    "from adaptive_al.config import ExperimentConfig\n",
    "from adaptive_al import ActiveLearning\n",
    "\n",
    "import logging\n",
    "logging.basicConfig(level=logging.INFO)"
   ],
   "id": "8640559c309e350d",
   "outputs": [],
   "execution_count": 1
  },
  {
   "metadata": {},
   "cell_type": "markdown",
   "source": "# Defining the Experiment Configuration",
   "id": "ca009f2a568287cf"
  },
  {
   "metadata": {},
   "cell_type": "markdown",
   "source": "We begin by setting up the `ExperimentConfig`, which defines parameters like seed, number of active learning rounds, model setup, and storage directory. This configuration serves as the backbone of the experiment pipeline.",
   "id": "d5c2f93ab4c667d1"
  },
  {
   "metadata": {
    "ExecuteTime": {
     "end_time": "2025-10-02T20:10:47.873661Z",
     "start_time": "2025-10-02T20:10:47.860721Z"
    }
   },
   "cell_type": "code",
   "source": [
    "device = \"cuda\" if torch.cuda.is_available() else \"cpu\"\n",
    "print(f\"Using device: {device}\")"
   ],
   "id": "57a5f5aab6df79a4",
   "outputs": [
    {
     "name": "stdout",
     "output_type": "stream",
     "text": [
      "Using device: cuda\n"
     ]
    }
   ],
   "execution_count": 2
  },
  {
   "metadata": {
    "ExecuteTime": {
     "end_time": "2025-10-02T20:10:47.880575Z",
     "start_time": "2025-10-02T20:10:47.876665Z"
    }
   },
   "cell_type": "code",
   "source": [
    "cfg = ExperimentConfig(\n",
    "    seed=42,\n",
    "    total_rounds=5,\n",
    "    experiment_name=\"dummy_test_pipeline\",\n",
    "    save_dir=Path(\"./experiments\"),\n",
    "\n",
    "    # Pool settings\n",
    "    initial_pool_size=200,\n",
    "    acquisition_batch_size=256,\n",
    "\n",
    "    # Model\n",
    "    model_name_or_path=\"distilbert-base-uncased\",\n",
    "    tokenizer_kwargs={\n",
    "        \"max_length\": 128,\n",
    "        \"padding\": \"max_length\",\n",
    "        \"truncation\": True,\n",
    "        \"add_special_tokens\": True,\n",
    "        \"return_tensors\": \"pt\"\n",
    "    },\n",
    "\n",
    "    # Dataset names (for reference)\n",
    "    data=\"agnews\",\n",
    "    num_labels=4,\n",
    "\n",
    "    # Strategy\n",
    "    strategy_class=\"DeltaF1Strategy\",\n",
    "    strategy_kwargs={\"epsilon\": 0.01, \"k\": 2}, # The base params are passed internally, only strategy specific params needed here\n",
    "\n",
    "    optimizer_class = \"Adam\",\n",
    "    optimizer_kwargs = {\"lr\": 1e-3, \"weight_decay\": 1e-4},\n",
    "\n",
    "    criterion_class = \"CrossEntropyLoss\",\n",
    "    criterion_kwargs = {},\n",
    "\n",
    "    scheduler_class = \"StepLR\",\n",
    "    scheduler_kwargs = {\"step_size\": 10, \"gamma\": 0.1},\n",
    "\n",
    "    # Sampler\n",
    "    sampler_class=\"RandomSampler\",\n",
    "    sampler_kwargs={\"seed\": 42},\n",
    "    # sampler_class=\"EntropySampler\",\n",
    "    # sampler_kwargs={\"show_progress\": True},\n",
    "\n",
    "    # Training\n",
    "    device=device,\n",
    "    epochs=3,\n",
    "    batch_size=64\n",
    ")"
   ],
   "id": "546e7cf3e88ae552",
   "outputs": [],
   "execution_count": 3
  },
  {
   "metadata": {
    "ExecuteTime": {
     "end_time": "2025-10-02T20:10:49.227772Z",
     "start_time": "2025-10-02T20:10:47.885579Z"
    }
   },
   "cell_type": "code",
   "source": "al = ActiveLearning(cfg)",
   "id": "8572bf476973f4cf",
   "outputs": [
    {
     "name": "stderr",
     "output_type": "stream",
     "text": [
      "INFO:root:Loading tokenizer and model from 'distilbert-base-uncased'...\n",
      "Some weights of DistilBertForSequenceClassification were not initialized from the model checkpoint at distilbert-base-uncased and are newly initialized: ['classifier.bias', 'classifier.weight', 'pre_classifier.bias', 'pre_classifier.weight']\n",
      "You should probably TRAIN this model on a down-stream task to be able to use it for predictions and inference.\n",
      "INFO:root:Train size: 118800, Validation size: 1200, Test size: 7600\n"
     ]
    }
   ],
   "execution_count": 4
  },
  {
   "metadata": {},
   "cell_type": "markdown",
   "source": "# Running Active Learning Rounds",
   "id": "72714f0972f17770"
  },
  {
   "metadata": {},
   "cell_type": "markdown",
   "source": "We now initialize the ActiveLearning object and step through multiple training rounds. Each round involves training on the current labeled pool, sampling new data, and updating model performance metrics.",
   "id": "821b2907ee250a90"
  },
  {
   "metadata": {
    "ExecuteTime": {
     "end_time": "2025-10-02T20:10:49.283370Z",
     "start_time": "2025-10-02T20:10:49.280282Z"
    }
   },
   "cell_type": "code",
   "source": "print(f\"Initial pool stats: {al.pool.get_pool_stats()}\")",
   "id": "b25cb64b82d68bb4",
   "outputs": [
    {
     "name": "stdout",
     "output_type": "stream",
     "text": [
      "Initial pool stats: {'labeled_count': 200, 'unlabeled_count': 118600, 'total_count': 118800}\n"
     ]
    }
   ],
   "execution_count": 5
  },
  {
   "metadata": {
    "ExecuteTime": {
     "end_time": "2025-10-02T20:11:01.269377Z",
     "start_time": "2025-10-02T20:10:49.290875Z"
    }
   },
   "cell_type": "code",
   "source": [
    "round_stats = al.train_one_round(new_indices=None)\n",
    "print(f\"Round 1 completed. Val F1: {round_stats['f1_score']:.4f}, Training Time: {round_stats['training_time']:.2f}s\")"
   ],
   "id": "10a0b0e69e90e077",
   "outputs": [
    {
     "name": "stderr",
     "output_type": "stream",
     "text": [
      "INFO:root:\n",
      "--- Round 1\n",
      "INFO:root:Resetting model to initial state . . .\n",
      "INFO:root:Epoch 1/3 completed in 2.16s | Avg Loss: 1.3966\n",
      "INFO:root:Epoch 2/3 completed in 1.81s | Avg Loss: 1.5821\n",
      "INFO:root:Epoch 3/3 completed in 2.03s | Avg Loss: 1.4010\n",
      "INFO:root:Training completed in 6.00s\n",
      "INFO:root:Model evaluation took 5.94 seconds\n",
      "INFO:root:Round 1 complete. Val Stats: Loss=1.3925959436517013, F1=0.1, Time=6.03s\n"
     ]
    },
    {
     "name": "stdout",
     "output_type": "stream",
     "text": [
      "Round 1 completed. Val F1: 0.1000, Training Time: 6.03s\n"
     ]
    }
   ],
   "execution_count": 6
  },
  {
   "metadata": {
    "ExecuteTime": {
     "end_time": "2025-10-02T20:11:01.287169Z",
     "start_time": "2025-10-02T20:11:01.282186Z"
    }
   },
   "cell_type": "code",
   "source": [
    "new_indices = al.sample_next_batch()\n",
    "print(f\"Sampled {len(new_indices)} new indices: {new_indices[:5]} ...\")"
   ],
   "id": "8af1ea5285ca2ac2",
   "outputs": [
    {
     "name": "stderr",
     "output_type": "stream",
     "text": [
      "INFO:root:Sampled 256 new samples in 0.0 seconds, using RandomSampler\n"
     ]
    },
    {
     "name": "stdout",
     "output_type": "stream",
     "text": [
      "Sampled 256 new indices: [83952, 14619, 3281, 97364, 36116] ...\n"
     ]
    }
   ],
   "execution_count": 7
  },
  {
   "metadata": {
    "ExecuteTime": {
     "end_time": "2025-10-02T20:11:12.227072Z",
     "start_time": "2025-10-02T20:11:01.291176Z"
    }
   },
   "cell_type": "code",
   "source": [
    "round_stats = al.train_one_round(new_indices=new_indices)\n",
    "print(f\"Round 2 completed. Val F1: {round_stats['f1_score']:.4f}, Training Time: {round_stats['training_time']:.2f}s\")"
   ],
   "id": "4a59b05af606a535",
   "outputs": [
    {
     "name": "stderr",
     "output_type": "stream",
     "text": [
      "INFO:root:\n",
      "--- Round 2\n",
      "INFO:root:Training with 256 new samples\n",
      "INFO:root:Resetting model to initial state . . .\n",
      "INFO:root:Epoch 1/3 completed in 1.83s | Avg Loss: 1.4489\n",
      "INFO:root:Epoch 2/3 completed in 1.82s | Avg Loss: 1.1237\n",
      "INFO:root:Epoch 3/3 completed in 1.81s | Avg Loss: 1.1825\n",
      "INFO:root:Training completed in 5.47s\n",
      "INFO:root:Model evaluation took 5.43 seconds\n",
      "INFO:root:Round 2 complete. Val Stats: Loss=1.2624016184555857, F1=0.3203836511078514, Time=5.50s\n"
     ]
    },
    {
     "name": "stdout",
     "output_type": "stream",
     "text": [
      "Round 2 completed. Val F1: 0.3204, Training Time: 5.50s\n"
     ]
    }
   ],
   "execution_count": 8
  },
  {
   "metadata": {
    "ExecuteTime": {
     "end_time": "2025-10-02T20:11:46.441782Z",
     "start_time": "2025-10-02T20:11:12.236973Z"
    }
   },
   "cell_type": "code",
   "source": [
    "num_additional_rounds = 3\n",
    "for r in range(num_additional_rounds):\n",
    "    print(f\"\\n--- Round {al.current_round + 1}\")\n",
    "\n",
    "    new_indices = al.sample_next_batch()\n",
    "    if not new_indices:\n",
    "        print(\"No more unlabeled data available!\")\n",
    "        break\n",
    "\n",
    "    round_stats = al.train_one_round(new_indices=new_indices)\n",
    "    print(f\"Val F1: {round_stats['f1_score']:.4f}, Training Time: {round_stats['training_time']:.2f}s\")\n",
    "    print(f\"Pool Stats: {round_stats['pool_stats']}\")"
   ],
   "id": "3e4c2efaeed47298",
   "outputs": [
    {
     "name": "stderr",
     "output_type": "stream",
     "text": [
      "INFO:root:Sampled 256 new samples in 0.0 seconds, using RandomSampler\n",
      "INFO:root:\n",
      "--- Round 3\n",
      "INFO:root:Training with 256 new samples\n",
      "INFO:root:Resetting model to initial state . . .\n"
     ]
    },
    {
     "name": "stdout",
     "output_type": "stream",
     "text": [
      "\n",
      "--- Round 3\n"
     ]
    },
    {
     "name": "stderr",
     "output_type": "stream",
     "text": [
      "INFO:root:Epoch 1/3 completed in 1.79s | Avg Loss: 1.5235\n",
      "INFO:root:Epoch 2/3 completed in 1.80s | Avg Loss: 1.5027\n",
      "INFO:root:Epoch 3/3 completed in 1.80s | Avg Loss: 1.4264\n",
      "INFO:root:Training completed in 5.38s\n",
      "INFO:root:Model evaluation took 5.48 seconds\n",
      "INFO:root:Round 3 complete. Val Stats: Loss=1.4086709712681018, F1=0.1, Time=5.41s\n",
      "INFO:root:Sampled 256 new samples in 0.0 seconds, using RandomSampler\n",
      "INFO:root:\n",
      "--- Round 4\n",
      "INFO:root:Training with 256 new samples\n",
      "INFO:root:Resetting model to initial state . . .\n"
     ]
    },
    {
     "name": "stdout",
     "output_type": "stream",
     "text": [
      "Val F1: 0.1000, Training Time: 5.41s\n",
      "Pool Stats: {'labeled_count': 200, 'unlabeled_count': 118600, 'total_count': 118800}\n",
      "\n",
      "--- Round 4\n"
     ]
    },
    {
     "name": "stderr",
     "output_type": "stream",
     "text": [
      "INFO:root:Epoch 1/3 completed in 1.91s | Avg Loss: 1.5286\n",
      "INFO:root:Epoch 2/3 completed in 2.08s | Avg Loss: 1.5585\n",
      "INFO:root:Epoch 3/3 completed in 2.06s | Avg Loss: 1.0713\n",
      "INFO:root:Training completed in 6.06s\n",
      "INFO:root:Model evaluation took 6.07 seconds\n",
      "INFO:root:Round 4 complete. Val Stats: Loss=0.8672537113490858, F1=0.5317818497627801, Time=6.08s\n",
      "INFO:root:Sampled 256 new samples in 0.0 seconds, using RandomSampler\n",
      "INFO:root:\n",
      "--- Round 5\n",
      "INFO:root:Training with 256 new samples\n",
      "INFO:root:Resetting model to initial state . . .\n"
     ]
    },
    {
     "name": "stdout",
     "output_type": "stream",
     "text": [
      "Val F1: 0.5318, Training Time: 6.08s\n",
      "Pool Stats: {'labeled_count': 200, 'unlabeled_count': 118600, 'total_count': 118800}\n",
      "\n",
      "--- Round 5\n"
     ]
    },
    {
     "name": "stderr",
     "output_type": "stream",
     "text": [
      "INFO:root:Epoch 1/3 completed in 1.88s | Avg Loss: 1.5480\n",
      "INFO:root:Epoch 2/3 completed in 1.99s | Avg Loss: 1.5503\n",
      "INFO:root:Epoch 3/3 completed in 1.82s | Avg Loss: 1.1745\n",
      "INFO:root:Training completed in 5.69s\n",
      "INFO:root:Model evaluation took 5.42 seconds\n",
      "INFO:root:Round 5 complete. Val Stats: Loss=2.763978406002647, F1=0.025287520197699836, Time=5.72s\n"
     ]
    },
    {
     "name": "stdout",
     "output_type": "stream",
     "text": [
      "Val F1: 0.0253, Training Time: 5.72s\n",
      "Pool Stats: {'labeled_count': 200, 'unlabeled_count': 118600, 'total_count': 118800}\n"
     ]
    }
   ],
   "execution_count": 9
  },
  {
   "metadata": {},
   "cell_type": "markdown",
   "source": "# End-to-End Active Learning Pipeline",
   "id": "58d4956340dc5f34"
  },
  {
   "metadata": {},
   "cell_type": "markdown",
   "source": "Instead of manually stepping through rounds, we can run the entire active learning cycle using `run_full_pipeline()`. This method orchestrates all stages from training to evaluation automatically.",
   "id": "120a24f737f4dcb3"
  },
  {
   "metadata": {
    "ExecuteTime": {
     "end_time": "2025-10-02T20:13:59.028690Z",
     "start_time": "2025-10-02T20:11:51.412660Z"
    }
   },
   "cell_type": "code",
   "source": [
    "final_metrics = al.run_full_pipeline()\n",
    "print(f\"Final Test Metrics: F1={final_metrics['f1_score']:.4f}, Accuracy={final_metrics['accuracy']:.4f}, Loss={final_metrics['loss']:.4f}\")"
   ],
   "id": "a58824f9875e192b",
   "outputs": [
    {
     "name": "stderr",
     "output_type": "stream",
     "text": [
      "INFO:root:Loading tokenizer and model from 'distilbert-base-uncased'...\n",
      "Some weights of DistilBertForSequenceClassification were not initialized from the model checkpoint at distilbert-base-uncased and are newly initialized: ['classifier.bias', 'classifier.weight', 'pre_classifier.bias', 'pre_classifier.weight']\n",
      "You should probably TRAIN this model on a down-stream task to be able to use it for predictions and inference.\n",
      "INFO:root:Train size: 118800, Validation size: 1200, Test size: 7600\n",
      "INFO:root:Running 5 rounds.\n",
      "INFO:root:\n",
      "--- Round 1\n",
      "INFO:root:Resetting model to initial state . . .\n",
      "INFO:root:Epoch 1/3 completed in 2.02s | Avg Loss: 1.3966\n",
      "INFO:root:Epoch 2/3 completed in 1.95s | Avg Loss: 1.5821\n",
      "INFO:root:Epoch 3/3 completed in 1.88s | Avg Loss: 1.4010\n",
      "INFO:root:Training completed in 5.85s\n",
      "INFO:root:Model evaluation took 5.52 seconds\n",
      "INFO:root:Round 1 complete. Val Stats: Loss=1.3925959436517013, F1=0.1, Time=5.88s\n",
      "INFO:root:Sampled 256 new samples in 0.0 seconds, using RandomSampler\n",
      "INFO:root:\n",
      "--- Round 2\n",
      "INFO:root:Training with 256 new samples\n",
      "INFO:root:Resetting model to initial state . . .\n",
      "INFO:root:Epoch 1/3 completed in 1.83s | Avg Loss: 1.4489\n",
      "INFO:root:Epoch 2/3 completed in 1.82s | Avg Loss: 1.1237\n",
      "INFO:root:Epoch 3/3 completed in 1.83s | Avg Loss: 1.1825\n",
      "INFO:root:Training completed in 5.48s\n",
      "INFO:root:Model evaluation took 5.45 seconds\n",
      "INFO:root:Round 2 complete. Val Stats: Loss=1.2624016184555857, F1=0.3203836511078514, Time=5.51s\n",
      "INFO:root:Sampled 256 new samples in 0.0 seconds, using RandomSampler\n",
      "INFO:root:\n",
      "--- Round 3\n",
      "INFO:root:Training with 256 new samples\n",
      "INFO:root:Resetting model to initial state . . .\n",
      "INFO:root:Epoch 1/3 completed in 1.88s | Avg Loss: 1.5235\n",
      "INFO:root:Epoch 2/3 completed in 1.86s | Avg Loss: 1.5027\n",
      "INFO:root:Epoch 3/3 completed in 1.84s | Avg Loss: 1.4264\n",
      "INFO:root:Training completed in 5.57s\n",
      "INFO:root:Model evaluation took 5.57 seconds\n",
      "INFO:root:Round 3 complete. Val Stats: Loss=1.4086709712681018, F1=0.1, Time=5.60s\n",
      "INFO:root:Sampled 256 new samples in 0.0 seconds, using RandomSampler\n",
      "INFO:root:\n",
      "--- Round 4\n",
      "INFO:root:Training with 256 new samples\n",
      "INFO:root:Resetting model to initial state . . .\n",
      "INFO:root:Epoch 1/3 completed in 1.88s | Avg Loss: 1.5286\n",
      "INFO:root:Epoch 2/3 completed in 1.84s | Avg Loss: 1.5585\n",
      "INFO:root:Epoch 3/3 completed in 1.81s | Avg Loss: 1.0713\n",
      "INFO:root:Training completed in 5.52s\n",
      "INFO:root:Model evaluation took 5.45 seconds\n",
      "INFO:root:Round 4 complete. Val Stats: Loss=0.8672537113490858, F1=0.5317818497627801, Time=5.55s\n",
      "INFO:root:Sampled 256 new samples in 0.0 seconds, using RandomSampler\n",
      "INFO:root:\n",
      "--- Round 5\n",
      "INFO:root:Training with 256 new samples\n",
      "INFO:root:Resetting model to initial state . . .\n",
      "INFO:root:Epoch 1/3 completed in 1.87s | Avg Loss: 1.5480\n",
      "INFO:root:Epoch 2/3 completed in 1.85s | Avg Loss: 1.5503\n",
      "INFO:root:Epoch 3/3 completed in 1.84s | Avg Loss: 1.1745\n",
      "INFO:root:Training completed in 5.56s\n",
      "INFO:root:Model evaluation took 5.55 seconds\n",
      "INFO:root:Round 5 complete. Val Stats: Loss=2.763978406002647, F1=0.025287520197699836, Time=5.59s\n",
      "INFO:root:Sampled 256 new samples in 0.0 seconds, using RandomSampler\n",
      "INFO:root:Model evaluation took 35.24 seconds\n",
      "INFO:root:Final Test set evaluation: Loss=2.7620302208331453, F1=0.0244, Acc=0.0389\n"
     ]
    },
    {
     "name": "stdout",
     "output_type": "stream",
     "text": [
      "Final Test Metrics: F1=0.0244, Accuracy=0.0389, Loss=2.7620\n"
     ]
    }
   ],
   "execution_count": 10
  },
  {
   "metadata": {
    "ExecuteTime": {
     "end_time": "2025-10-02T20:13:59.048154Z",
     "start_time": "2025-10-02T20:13:59.043156Z"
    }
   },
   "cell_type": "code",
   "source": "al.save_experiment()",
   "id": "22a39d371b8cd2a",
   "outputs": [
    {
     "name": "stderr",
     "output_type": "stream",
     "text": [
      "INFO:root:Experiment saved to experiments\\dummy_test_pipeline\\results_20251002_231359.json\n"
     ]
    }
   ],
   "execution_count": 11
  },
  {
   "metadata": {},
   "cell_type": "markdown",
   "source": "# Saving and Inspecting Experiment Results",
   "id": "f8d34d515bff7d02"
  },
  {
   "metadata": {},
   "cell_type": "markdown",
   "source": "After training, experiment results (metrics, configurations, and logs) are saved in JSON format. We can load these results for analysis, reproducibility, or comparison across different experiment runs.",
   "id": "8a518bc63e523410"
  },
  {
   "metadata": {
    "ExecuteTime": {
     "end_time": "2025-10-02T20:14:09.029703Z",
     "start_time": "2025-10-02T20:14:09.018699Z"
    }
   },
   "cell_type": "code",
   "source": [
    "with open(r\"experiments/dummy_test_pipeline/results_20251002_231359.json\", 'r') as f:\n",
    "    experiment_data = json.load(f)"
   ],
   "id": "21a432253038d3bc",
   "outputs": [],
   "execution_count": 12
  },
  {
   "metadata": {
    "ExecuteTime": {
     "end_time": "2025-10-02T20:14:09.403060Z",
     "start_time": "2025-10-02T20:14:09.400059Z"
    }
   },
   "cell_type": "code",
   "source": "print(experiment_data.keys())",
   "id": "99057112afcd3a17",
   "outputs": [
    {
     "name": "stdout",
     "output_type": "stream",
     "text": [
      "dict_keys(['cfg', 'total_rounds', 'round_val_stats', 'final_pool_stats', 'final_test_stats', 'confusion_matrix'])\n"
     ]
    }
   ],
   "execution_count": 13
  },
  {
   "metadata": {
    "ExecuteTime": {
     "end_time": "2025-10-02T20:14:10.195178Z",
     "start_time": "2025-10-02T20:14:10.190145Z"
    }
   },
   "cell_type": "code",
   "source": "experiment_data['cfg']",
   "id": "ccafbcee96908ec1",
   "outputs": [
    {
     "data": {
      "text/plain": [
       "{'seed': 42,\n",
       " 'total_rounds': 5,\n",
       " 'initial_pool_size': 200,\n",
       " 'acquisition_batch_size': 256,\n",
       " 'min_rounds_before_plateau': -1,\n",
       " 'plateau_patience': -1,\n",
       " 'plateau_f1_threshold': 0.5,\n",
       " 'approximate_evaluation_subset_size': -1,\n",
       " 'max_seconds': None,\n",
       " 'pool_proportion_threshold': -1,\n",
       " 'sampler_class': 'RandomSampler',\n",
       " 'sampler_kwargs': {'seed': 42},\n",
       " 'strategy_class': 'DeltaF1Strategy',\n",
       " 'strategy_kwargs': {'epsilon': 0.01, 'k': 2},\n",
       " 'model_name_or_path': 'distilbert-base-uncased',\n",
       " 'num_labels': 4,\n",
       " 'tokenizer_kwargs': {'max_length': 128,\n",
       "  'padding': 'max_length',\n",
       "  'truncation': True,\n",
       "  'add_special_tokens': True,\n",
       "  'return_tensors': 'pt'},\n",
       " 'optimizer_class': 'Adam',\n",
       " 'optimizer_kwargs': {'lr': 0.001, 'weight_decay': 0.0001},\n",
       " 'criterion_class': 'CrossEntropyLoss',\n",
       " 'criterion_kwargs': {},\n",
       " 'scheduler_class': 'StepLR',\n",
       " 'scheduler_kwargs': {'step_size': 10, 'gamma': 0.1},\n",
       " 'device': 'cuda',\n",
       " 'epochs': 3,\n",
       " 'batch_size': 64,\n",
       " 'data': 'agnews',\n",
       " 'save_dir': 'experiments',\n",
       " 'experiment_name': 'dummy_test_pipeline'}"
      ]
     },
     "execution_count": 14,
     "metadata": {},
     "output_type": "execute_result"
    }
   ],
   "execution_count": 14
  },
  {
   "metadata": {
    "ExecuteTime": {
     "end_time": "2025-10-02T20:14:10.963213Z",
     "start_time": "2025-10-02T20:14:10.959211Z"
    }
   },
   "cell_type": "code",
   "source": "experiment_data['total_rounds']",
   "id": "32c9ff353450f4ae",
   "outputs": [
    {
     "data": {
      "text/plain": [
       "5"
      ]
     },
     "execution_count": 15,
     "metadata": {},
     "output_type": "execute_result"
    }
   ],
   "execution_count": 15
  },
  {
   "metadata": {
    "ExecuteTime": {
     "end_time": "2025-10-02T20:14:13.010812Z",
     "start_time": "2025-10-02T20:14:13.007335Z"
    }
   },
   "cell_type": "code",
   "source": "experiment_data['round_val_stats'][-1]",
   "id": "a7b549ef3414cbfb",
   "outputs": [
    {
     "data": {
      "text/plain": [
       "{'training_time': 5.591256141662598,\n",
       " 'avg_loss': 1.4242725372314453,\n",
       " 'epochs': 3,\n",
       " 'total_samples': 200,\n",
       " 'new_samples': 0,\n",
       " 'loss': 2.763978406002647,\n",
       " 'f1_score': 0.025287520197699836,\n",
       " 'accuracy': 0.04,\n",
       " 'pool_stats': {'labeled_count': 200,\n",
       "  'unlabeled_count': 118600,\n",
       "  'total_count': 118800}}"
      ]
     },
     "execution_count": 16,
     "metadata": {},
     "output_type": "execute_result"
    }
   ],
   "execution_count": 16
  },
  {
   "metadata": {
    "ExecuteTime": {
     "end_time": "2025-10-02T20:14:15.103874Z",
     "start_time": "2025-10-02T20:14:15.100052Z"
    }
   },
   "cell_type": "code",
   "source": "experiment_data[\"final_pool_stats\"]",
   "id": "7d3d15bb908ff58c",
   "outputs": [
    {
     "data": {
      "text/plain": [
       "{'labeled_count': 200, 'unlabeled_count': 118600, 'total_count': 118800}"
      ]
     },
     "execution_count": 17,
     "metadata": {},
     "output_type": "execute_result"
    }
   ],
   "execution_count": 17
  },
  {
   "metadata": {
    "ExecuteTime": {
     "end_time": "2025-10-02T20:14:15.775711Z",
     "start_time": "2025-10-02T20:14:15.771713Z"
    }
   },
   "cell_type": "code",
   "source": "experiment_data[\"final_test_stats\"]",
   "id": "283ddaa279305d98",
   "outputs": [
    {
     "data": {
      "text/plain": [
       "{'loss': 2.7620302208331453,\n",
       " 'f1_score': 0.02437107500880923,\n",
       " 'accuracy': 0.03894736842105263}"
      ]
     },
     "execution_count": 18,
     "metadata": {},
     "output_type": "execute_result"
    }
   ],
   "execution_count": 18
  }
 ],
 "metadata": {
  "kernelspec": {
   "display_name": "Python 3",
   "language": "python",
   "name": "python3"
  },
  "language_info": {
   "codemirror_mode": {
    "name": "ipython",
    "version": 2
   },
   "file_extension": ".py",
   "mimetype": "text/x-python",
   "name": "python",
   "nbconvert_exporter": "python",
   "pygments_lexer": "ipython2",
   "version": "2.7.6"
  }
 },
 "nbformat": 4,
 "nbformat_minor": 5
}
