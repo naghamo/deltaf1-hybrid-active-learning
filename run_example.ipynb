{
 "cells": [
  {
   "cell_type": "code",
   "id": "initial_id",
   "metadata": {
    "collapsed": true,
    "ExecuteTime": {
     "end_time": "2025-08-28T21:02:37.882790Z",
     "start_time": "2025-08-28T21:02:36.216718Z"
    }
   },
   "source": [
    "import torch\n",
    "from pathlib import Path\n",
    "import logging\n",
    "import json\n",
    "\n",
    "from adaptive_al_v2.active_learning import ActiveLearning, ExperimentConfig"
   ],
   "outputs": [],
   "execution_count": 1
  },
  {
   "metadata": {
    "ExecuteTime": {
     "end_time": "2025-08-28T21:02:39.346163Z",
     "start_time": "2025-08-28T21:02:39.331908Z"
    }
   },
   "cell_type": "code",
   "source": [
    "device = \"cuda\" if torch.cuda.is_available() else \"cpu\"\n",
    "print(f\"Using device: {device}\")"
   ],
   "id": "1ee195758ca57c80",
   "outputs": [
    {
     "name": "stdout",
     "output_type": "stream",
     "text": [
      "Using device: cuda\n"
     ]
    }
   ],
   "execution_count": 2
  },
  {
   "metadata": {
    "ExecuteTime": {
     "end_time": "2025-08-28T21:02:40.075566Z",
     "start_time": "2025-08-28T21:02:40.071015Z"
    }
   },
   "cell_type": "code",
   "source": [
    "cfg = ExperimentConfig(\n",
    "    seed=42,\n",
    "    total_rounds=5,\n",
    "    experiment_name=\"dummy_test_pipeline\",\n",
    "    save_dir=Path(\"./experiments\"),\n",
    "\n",
    "    # Pool settings\n",
    "    initial_pool_size=100,\n",
    "    acquisition_batch_size=16,\n",
    "\n",
    "    # Model\n",
    "    model_class=\"SimpleTextClassifier\",\n",
    "    model_kwargs={\"hidden_dim\": 32, \"num_classes\": 4},\n",
    "\n",
    "    # Strategy\n",
    "    strategy_class=\"FineTuneStrategy\",\n",
    "    strategy_kwargs={}, # The base params are passed internally, only strategy specific params needed here\n",
    "\n",
    "    optimizer_class = \"Adam\",\n",
    "    optimizer_kwargs = {\"lr\": 1e-3, \"weight_decay\": 1e-4},\n",
    "\n",
    "    criterion_class = \"CrossEntropyLoss\",\n",
    "    criterion_kwargs = {},\n",
    "\n",
    "    scheduler_class = \"StepLR\",\n",
    "    scheduler_kwargs = {\"step_size\": 10, \"gamma\": 0.1},\n",
    "\n",
    "    # Sampler\n",
    "    sampler_class=\"RandomSampler\",\n",
    "    sampler_kwargs={\"seed\": 42},\n",
    "\n",
    "    # Training\n",
    "    device=device,\n",
    "    epochs=3,\n",
    "    batch_size=8,\n",
    "\n",
    "    # Dataset names (for reference)\n",
    "    data=\"agnews\"\n",
    ")"
   ],
   "id": "cb57004dfbea90ca",
   "outputs": [],
   "execution_count": 3
  },
  {
   "metadata": {
    "ExecuteTime": {
     "end_time": "2025-08-28T21:02:41.687248Z",
     "start_time": "2025-08-28T21:02:40.650472Z"
    }
   },
   "cell_type": "code",
   "source": "al = ActiveLearning(cfg)",
   "id": "c15c6ebae79dba52",
   "outputs": [],
   "execution_count": 4
  },
  {
   "metadata": {},
   "cell_type": "markdown",
   "source": "## Just checking if it actually works",
   "id": "8af4dc97750a51d6"
  },
  {
   "metadata": {
    "ExecuteTime": {
     "end_time": "2025-08-28T21:02:41.704288Z",
     "start_time": "2025-08-28T21:02:41.701288Z"
    }
   },
   "cell_type": "code",
   "source": "print(f\"Initial pool stats: {al.pool.get_pool_stats()}\")",
   "id": "8485b7bb611031dc",
   "outputs": [
    {
     "name": "stdout",
     "output_type": "stream",
     "text": [
      "Initial pool stats: {'labeled_count': 100, 'unlabeled_count': 107900, 'total_count': 108000}\n"
     ]
    }
   ],
   "execution_count": 5
  },
  {
   "metadata": {
    "ExecuteTime": {
     "end_time": "2025-08-28T21:02:43.005469Z",
     "start_time": "2025-08-28T21:02:42.422138Z"
    }
   },
   "cell_type": "code",
   "source": [
    "round_stats = al.train_one_round(new_indices=None)\n",
    "print(f\"Round 1 completed. Val F1: {round_stats['f1_score']:.4f}, Training Time: {round_stats['training_time']:.2f}s\")"
   ],
   "id": "24d4cec80a9aa879",
   "outputs": [
    {
     "name": "stdout",
     "output_type": "stream",
     "text": [
      "Round 1 completed. Val F1: 0.1146, Training Time: 0.12s\n"
     ]
    }
   ],
   "execution_count": 6
  },
  {
   "metadata": {
    "ExecuteTime": {
     "end_time": "2025-08-28T21:02:43.622176Z",
     "start_time": "2025-08-28T21:02:43.616871Z"
    }
   },
   "cell_type": "code",
   "source": [
    "new_indices = al.sample_next_batch()\n",
    "print(f\"Sampled {len(new_indices)} new indices: {new_indices[:5]} ...\")"
   ],
   "id": "d4114fb6e0f50bc2",
   "outputs": [
    {
     "name": "stdout",
     "output_type": "stream",
     "text": [
      "Sampled 16 new indices: [83887, 14608, 3283, 97289, 36085] ...\n"
     ]
    }
   ],
   "execution_count": 7
  },
  {
   "metadata": {
    "ExecuteTime": {
     "end_time": "2025-08-28T21:02:45.554895Z",
     "start_time": "2025-08-28T21:02:45.033794Z"
    }
   },
   "cell_type": "code",
   "source": [
    "round_stats = al.train_one_round(new_indices=new_indices)\n",
    "print(f\"Round 2 completed. Val F1: {round_stats['f1_score']:.4f}, Training Time: {round_stats['training_time']:.2f}s\")"
   ],
   "id": "f5d16592aea125e7",
   "outputs": [
    {
     "name": "stdout",
     "output_type": "stream",
     "text": [
      "Round 2 completed. Val F1: 0.0995, Training Time: 0.04s\n"
     ]
    }
   ],
   "execution_count": 8
  },
  {
   "metadata": {
    "ExecuteTime": {
     "end_time": "2025-08-28T21:02:53.105150Z",
     "start_time": "2025-08-28T21:02:51.543065Z"
    }
   },
   "cell_type": "code",
   "source": [
    "num_additional_rounds = 3\n",
    "for r in range(num_additional_rounds):\n",
    "    print(f\"\\n--- Round {al.current_round + 1}\")\n",
    "\n",
    "    new_indices = al.sample_next_batch()\n",
    "    if not new_indices:\n",
    "        print(\"No more unlabeled data available!\")\n",
    "        break\n",
    "\n",
    "    round_stats = al.train_one_round(new_indices=new_indices)\n",
    "    print(f\"Val F1: {round_stats['f1_score']:.4f}, Training Time: {round_stats['training_time']:.2f}s\")\n",
    "    print(f\"Pool Stats: {round_stats['pool_stats']}\")"
   ],
   "id": "46d363e465beebb7",
   "outputs": [
    {
     "name": "stdout",
     "output_type": "stream",
     "text": [
      "\n",
      "--- Round 3\n",
      "Val F1: 0.1111, Training Time: 0.05s\n",
      "Pool Stats: {'labeled_count': 132, 'unlabeled_count': 107868, 'total_count': 108000}\n",
      "\n",
      "--- Round 4\n",
      "Val F1: 0.1270, Training Time: 0.04s\n",
      "Pool Stats: {'labeled_count': 148, 'unlabeled_count': 107852, 'total_count': 108000}\n",
      "\n",
      "--- Round 5\n",
      "Val F1: 0.1140, Training Time: 0.05s\n",
      "Pool Stats: {'labeled_count': 164, 'unlabeled_count': 107836, 'total_count': 108000}\n"
     ]
    }
   ],
   "execution_count": 9
  },
  {
   "metadata": {
    "ExecuteTime": {
     "end_time": "2025-08-28T18:31:06.833007Z",
     "start_time": "2025-08-28T18:31:06.830Z"
    }
   },
   "cell_type": "code",
   "source": [
    "# # Still doesnt show logs for some reason\n",
    "# logging.basicConfig(\n",
    "#     level=logging.INFO,\n",
    "#     format=\"%(asctime)s | %(levelname)s | %(message)s\",\n",
    "#     datefmt=\"%H:%M:%S\"\n",
    "# )"
   ],
   "id": "2ad5f743a1187381",
   "outputs": [],
   "execution_count": 25
  },
  {
   "metadata": {},
   "cell_type": "markdown",
   "source": "# FULL PIPELINE HERE ! ! !",
   "id": "5989786f4babe408"
  },
  {
   "metadata": {
    "ExecuteTime": {
     "end_time": "2025-08-28T21:03:05.988961Z",
     "start_time": "2025-08-28T21:03:03.175989Z"
    }
   },
   "cell_type": "code",
   "source": [
    "final_metrics = al.run_full_pipeline()\n",
    "print(f\"Final Test Metrics: F1={final_metrics['f1_score']:.4f}, Accuracy={final_metrics['accuracy']:.4f}, Loss={final_metrics['loss']:.4f}\")"
   ],
   "id": "b2976e59fc9195f2",
   "outputs": [
    {
     "name": "stdout",
     "output_type": "stream",
     "text": [
      "Final Test Metrics: F1=0.1000, Accuracy=0.2500, Loss=2.0380\n"
     ]
    }
   ],
   "execution_count": 10
  },
  {
   "metadata": {
    "ExecuteTime": {
     "end_time": "2025-08-28T21:03:10.598127Z",
     "start_time": "2025-08-28T21:03:10.593602Z"
    }
   },
   "cell_type": "code",
   "source": "al.save_experiment()",
   "id": "474893112e83c0f",
   "outputs": [],
   "execution_count": 11
  },
  {
   "metadata": {
    "ExecuteTime": {
     "end_time": "2025-08-28T21:03:12.078741Z",
     "start_time": "2025-08-28T21:03:12.074830Z"
    }
   },
   "cell_type": "code",
   "source": [
    "with open(r\"./experiments/dummy_test_pipeline/results_20250828_213116.json\", 'r') as f:\n",
    "    experiment_data = json.load(f)"
   ],
   "id": "94843c8c0ccce73f",
   "outputs": [],
   "execution_count": 12
  },
  {
   "metadata": {
    "ExecuteTime": {
     "end_time": "2025-08-28T21:03:12.599577Z",
     "start_time": "2025-08-28T21:03:12.591470Z"
    }
   },
   "cell_type": "code",
   "source": "print(experiment_data.keys())",
   "id": "b4221facf5bc88e6",
   "outputs": [
    {
     "name": "stdout",
     "output_type": "stream",
     "text": [
      "dict_keys(['cfg', 'total_rounds', 'round_val_stats', 'final_pool_stats', 'final_test_stats'])\n"
     ]
    }
   ],
   "execution_count": 13
  },
  {
   "metadata": {
    "ExecuteTime": {
     "end_time": "2025-08-28T21:03:13.056269Z",
     "start_time": "2025-08-28T21:03:13.051199Z"
    }
   },
   "cell_type": "code",
   "source": "experiment_data['cfg']",
   "id": "63253569c2715cd4",
   "outputs": [
    {
     "data": {
      "text/plain": [
       "{'seed': 42,\n",
       " 'total_rounds': 5,\n",
       " 'initial_pool_size': 100,\n",
       " 'acquisition_batch_size': 16,\n",
       " 'sampler_class': 'RandomSampler',\n",
       " 'sampler_kwargs': {'seed': 42},\n",
       " 'strategy_class': 'FineTuneStrategy',\n",
       " 'strategy_kwargs': {},\n",
       " 'model_class': 'SimpleTextClassifier',\n",
       " 'model_kwargs': {'hidden_dim': 32, 'num_classes': 4},\n",
       " 'optimizer_class': 'Adam',\n",
       " 'optimizer_kwargs': {'lr': 0.001},\n",
       " 'criterion_class': 'CrossEntropyLoss',\n",
       " 'criterion_kwargs': {},\n",
       " 'scheduler_class': 'StepLR',\n",
       " 'scheduler_kwargs': {'step_size': 10, 'gamma': 0.1},\n",
       " 'device': 'cuda',\n",
       " 'epochs': 3,\n",
       " 'batch_size': 8,\n",
       " 'data': 'agnews',\n",
       " 'save_dir': 'experiments',\n",
       " 'experiment_name': 'dummy_test_pipeline'}"
      ]
     },
     "execution_count": 14,
     "metadata": {},
     "output_type": "execute_result"
    }
   ],
   "execution_count": 14
  },
  {
   "metadata": {
    "ExecuteTime": {
     "end_time": "2025-08-28T21:03:13.588297Z",
     "start_time": "2025-08-28T21:03:13.584460Z"
    }
   },
   "cell_type": "code",
   "source": "experiment_data['total_rounds']",
   "id": "2e45af560a7164f0",
   "outputs": [
    {
     "data": {
      "text/plain": [
       "5"
      ]
     },
     "execution_count": 15,
     "metadata": {},
     "output_type": "execute_result"
    }
   ],
   "execution_count": 15
  },
  {
   "metadata": {
    "ExecuteTime": {
     "end_time": "2025-08-28T21:03:14.049623Z",
     "start_time": "2025-08-28T21:03:14.046062Z"
    }
   },
   "cell_type": "code",
   "source": "experiment_data['round_val_stats'][-1]",
   "id": "bd769b5d17ffa236",
   "outputs": [
    {
     "data": {
      "text/plain": [
       "{'training_time': 0.05011439323425293,\n",
       " 'avg_loss': 11.27958299243261,\n",
       " 'epochs': 3,\n",
       " 'total_samples': 164,\n",
       " 'new_samples': 16,\n",
       " 'loss': 2.7253062326510746,\n",
       " 'f1_score': 0.2082740227777865,\n",
       " 'accuracy': 0.28041666666666665,\n",
       " 'pool_stats': {'labeled_count': 164,\n",
       "  'unlabeled_count': 107836,\n",
       "  'total_count': 108000}}"
      ]
     },
     "execution_count": 16,
     "metadata": {},
     "output_type": "execute_result"
    }
   ],
   "execution_count": 16
  },
  {
   "metadata": {
    "ExecuteTime": {
     "end_time": "2025-08-28T21:03:14.475077Z",
     "start_time": "2025-08-28T21:03:14.470067Z"
    }
   },
   "cell_type": "code",
   "source": "experiment_data[\"final_pool_stats\"]",
   "id": "1ae22899026cd37d",
   "outputs": [
    {
     "data": {
      "text/plain": [
       "{'labeled_count': 164, 'unlabeled_count': 107836, 'total_count': 108000}"
      ]
     },
     "execution_count": 17,
     "metadata": {},
     "output_type": "execute_result"
    }
   ],
   "execution_count": 17
  },
  {
   "metadata": {
    "ExecuteTime": {
     "end_time": "2025-08-28T21:03:14.890174Z",
     "start_time": "2025-08-28T21:03:14.886840Z"
    }
   },
   "cell_type": "code",
   "source": "experiment_data[\"final_test_stats\"]",
   "id": "f3ff7f1ae7f58d9b",
   "outputs": [
    {
     "data": {
      "text/plain": [
       "{'loss': 2.7029831030494287,\n",
       " 'f1_score': 0.20674316975453216,\n",
       " 'accuracy': 0.2811842105263158}"
      ]
     },
     "execution_count": 18,
     "metadata": {},
     "output_type": "execute_result"
    }
   ],
   "execution_count": 18
  },
  {
   "metadata": {
    "ExecuteTime": {
     "end_time": "2025-08-28T21:03:15.308636Z",
     "start_time": "2025-08-28T21:03:15.306884Z"
    }
   },
   "cell_type": "code",
   "source": "",
   "id": "485a0c36ff2d07c5",
   "outputs": [],
   "execution_count": null
  },
  {
   "metadata": {},
   "cell_type": "code",
   "outputs": [],
   "execution_count": null,
   "source": "",
   "id": "43add30a09737d96"
  }
 ],
 "metadata": {
  "kernelspec": {
   "display_name": "Python 3",
   "language": "python",
   "name": "python3"
  },
  "language_info": {
   "codemirror_mode": {
    "name": "ipython",
    "version": 2
   },
   "file_extension": ".py",
   "mimetype": "text/x-python",
   "name": "python",
   "nbconvert_exporter": "python",
   "pygments_lexer": "ipython2",
   "version": "2.7.6"
  }
 },
 "nbformat": 4,
 "nbformat_minor": 5
}
