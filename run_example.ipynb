{
 "cells": [
  {
   "cell_type": "code",
   "id": "initial_id",
   "metadata": {
    "collapsed": true,
    "ExecuteTime": {
     "end_time": "2025-08-28T18:36:04.715422Z",
     "start_time": "2025-08-28T18:36:04.712734Z"
    }
   },
   "source": [
    "import torch\n",
    "from pathlib import Path\n",
    "import logging\n",
    "import json\n",
    "\n",
    "from adaptive_al_v2.active_learning import ActiveLearning, ExperimentConfig"
   ],
   "outputs": [],
   "execution_count": 50
  },
  {
   "metadata": {
    "ExecuteTime": {
     "end_time": "2025-08-28T18:36:05.119299Z",
     "start_time": "2025-08-28T18:36:05.115729Z"
    }
   },
   "cell_type": "code",
   "source": [
    "device = \"cuda\" if torch.cuda.is_available() else \"cpu\"\n",
    "print(f\"Using device: {device}\")"
   ],
   "id": "1ee195758ca57c80",
   "outputs": [
    {
     "name": "stdout",
     "output_type": "stream",
     "text": [
      "Using device: cuda\n"
     ]
    }
   ],
   "execution_count": 51
  },
  {
   "metadata": {},
   "cell_type": "code",
   "source": [
    "cfg = ExperimentConfig(\n",
    "    seed=42,\n",
    "    total_rounds=5,\n",
    "    experiment_name=\"dummy_test_pipeline\",\n",
    "    save_dir=Path(\"./experiments\"),\n",
    "\n",
    "    # Pool settings\n",
    "    initial_pool_size=100,\n",
    "    acquisition_batch_size=16,\n",
    "\n",
    "    # Model\n",
    "    model_class=\"SimpleTextClassifier\",\n",
    "    model_kwargs={\"hidden_dim\": 32, \"num_classes\": 4},\n",
    "\n",
    "    # Strategy\n",
    "    strategy_class=\"FineTuneStrategy\",\n",
    "    strategy_kwargs={}, # The base params are passed internally, only strategy specific params needed here\n",
    "\n",
    "    optimizer_class = \"Adam\",\n",
    "    optimizer_kwargs = {\"lr\": 1e-3, \"weight_decay\": 1e-4},\n",
    "\n",
    "    criterion_class = \"CrossEntropyLoss\",\n",
    "    criterion_kwargs = {},\n",
    "\n",
    "    scheduler_class = \"StepLR\",\n",
    "    scheduler_kwargs = {\"step_size\": 10, \"gamma\": 0.1},\n",
    "\n",
    "    # Sampler\n",
    "    sampler_class=\"RandomSampler\",\n",
    "    sampler_kwargs={\"seed\": 42},\n",
    "\n",
    "    # Training\n",
    "    device=device,\n",
    "    epochs=3,\n",
    "    batch_size=8,\n",
    "\n",
    "    # Dataset names (for reference)\n",
    "    data=\"agnews\"\n",
    ")"
   ],
   "id": "cb57004dfbea90ca",
   "execution_count": 52,
   "outputs": []
  },
  {
   "metadata": {},
   "cell_type": "code",
   "source": "al = ActiveLearning(cfg)",
   "id": "c15c6ebae79dba52",
   "execution_count": 20,
   "outputs": [
    {
     "name": "stdout",
     "output_type": "stream",
     "text": [
      "Initial pool stats: {'labeled_count': 100, 'unlabeled_count': 107900, 'total_count': 108000}\n"
     ]
    }
   ]
  },
  {
   "metadata": {},
   "cell_type": "markdown",
   "source": "## Checking if it actually works",
   "id": "8af4dc97750a51d6"
  },
  {
   "metadata": {},
   "cell_type": "code",
   "outputs": [],
   "execution_count": null,
   "source": "print(f\"Initial pool stats: {al.pool.get_pool_stats()}\")",
   "id": "8485b7bb611031dc"
  },
  {
   "metadata": {
    "ExecuteTime": {
     "end_time": "2025-08-28T18:30:44.319793Z",
     "start_time": "2025-08-28T18:30:43.690244Z"
    }
   },
   "cell_type": "code",
   "source": [
    "round_stats = al.train_one_round(new_indices=None)\n",
    "print(f\"Round 1 completed. Val F1: {round_stats['f1_score']:.4f}, Training Time: {round_stats['training_time']:.2f}s\")"
   ],
   "id": "24d4cec80a9aa879",
   "outputs": [
    {
     "name": "stdout",
     "output_type": "stream",
     "text": [
      "Round 1 completed. Val F1: 0.1078, Training Time: 0.04s\n"
     ]
    }
   ],
   "execution_count": 21
  },
  {
   "metadata": {
    "ExecuteTime": {
     "end_time": "2025-08-28T18:30:44.332639Z",
     "start_time": "2025-08-28T18:30:44.329337Z"
    }
   },
   "cell_type": "code",
   "source": [
    "new_indices = al.sample_next_batch()\n",
    "print(f\"Sampled {len(new_indices)} new indices: {new_indices[:5]}\")"
   ],
   "id": "d4114fb6e0f50bc2",
   "outputs": [
    {
     "name": "stdout",
     "output_type": "stream",
     "text": [
      "Sampled 16 new indices: [83884, 14606, 3280, 97285, 36074]\n"
     ]
    }
   ],
   "execution_count": 22
  },
  {
   "metadata": {
    "ExecuteTime": {
     "end_time": "2025-08-28T18:30:45.754341Z",
     "start_time": "2025-08-28T18:30:45.136811Z"
    }
   },
   "cell_type": "code",
   "source": [
    "round_stats = al.train_one_round(new_indices=new_indices)\n",
    "print(f\"Round 2 completed. Val F1: {round_stats['f1_score']:.4f}\")"
   ],
   "id": "f5d16592aea125e7",
   "outputs": [
    {
     "name": "stdout",
     "output_type": "stream",
     "text": [
      "Round 2 completed. Val F1: 0.1768\n"
     ]
    }
   ],
   "execution_count": 23
  },
  {
   "metadata": {
    "ExecuteTime": {
     "end_time": "2025-08-28T18:31:03.594685Z",
     "start_time": "2025-08-28T18:31:01.699194Z"
    }
   },
   "cell_type": "code",
   "source": [
    "num_additional_rounds = 3\n",
    "for r in range(num_additional_rounds):\n",
    "    print(f\"\\n--- Round {al.current_round + 1}\")\n",
    "\n",
    "    new_indices = al.sample_next_batch()\n",
    "    if not new_indices:\n",
    "        print(\"No more unlabeled data available!\")\n",
    "        break\n",
    "\n",
    "    round_stats = al.train_one_round(new_indices=new_indices)\n",
    "    print(f\"Val F1: {round_stats['f1_score']:.4f}, Training Time: {round_stats['training_time']:.2f}s\")\n",
    "    print(f\"Pool Stats: {round_stats['pool_stats']}\")"
   ],
   "id": "46d363e465beebb7",
   "outputs": [
    {
     "name": "stdout",
     "output_type": "stream",
     "text": [
      "\n",
      "--- Round 3\n",
      "Val F1: 0.1266, Training Time: 0.06s\n",
      "Pool Stats: {'labeled_count': 132, 'unlabeled_count': 107868, 'total_count': 108000}\n",
      "\n",
      "--- Round 4\n",
      "Val F1: 0.1659, Training Time: 0.06s\n",
      "Pool Stats: {'labeled_count': 148, 'unlabeled_count': 107852, 'total_count': 108000}\n",
      "\n",
      "--- Round 5\n",
      "Val F1: 0.1100, Training Time: 0.05s\n",
      "Pool Stats: {'labeled_count': 164, 'unlabeled_count': 107836, 'total_count': 108000}\n"
     ]
    }
   ],
   "execution_count": 24
  },
  {
   "metadata": {
    "ExecuteTime": {
     "end_time": "2025-08-28T18:31:06.833007Z",
     "start_time": "2025-08-28T18:31:06.830Z"
    }
   },
   "cell_type": "code",
   "source": [
    "logging.basicConfig(\n",
    "    level=logging.INFO,\n",
    "    format=\"%(asctime)s | %(levelname)s | %(message)s\",\n",
    "    datefmt=\"%H:%M:%S\"\n",
    ")"
   ],
   "id": "2ad5f743a1187381",
   "outputs": [],
   "execution_count": 25
  },
  {
   "metadata": {},
   "cell_type": "markdown",
   "source": "# FULL PIPELINE HERE ! ! !",
   "id": "5989786f4babe408"
  },
  {
   "metadata": {
    "ExecuteTime": {
     "end_time": "2025-08-28T18:31:11.503110Z",
     "start_time": "2025-08-28T18:31:07.947384Z"
    }
   },
   "cell_type": "code",
   "source": [
    "final_metrics = al.run_full_pipeline()\n",
    "print(f\"Final Test Metrics: F1={final_metrics['f1_score']:.4f}, Accuracy={final_metrics['accuracy']:.4f}, Loss={final_metrics['loss']:.4f}\")"
   ],
   "id": "b2976e59fc9195f2",
   "outputs": [
    {
     "name": "stdout",
     "output_type": "stream",
     "text": [
      "Final Test Metrics: F1=0.2067, Accuracy=0.2812, Loss=2.7030\n"
     ]
    }
   ],
   "execution_count": 26
  },
  {
   "metadata": {
    "ExecuteTime": {
     "end_time": "2025-08-28T18:31:16.190553Z",
     "start_time": "2025-08-28T18:31:16.187035Z"
    }
   },
   "cell_type": "code",
   "source": "al.save_experiment()",
   "id": "474893112e83c0f",
   "outputs": [],
   "execution_count": 27
  },
  {
   "metadata": {
    "ExecuteTime": {
     "end_time": "2025-08-28T18:34:06.674781Z",
     "start_time": "2025-08-28T18:34:06.671794Z"
    }
   },
   "cell_type": "code",
   "source": [
    "with open(r\"./experiments/dummy_test_pipeline/results_20250828_213116.json\", 'r') as f:\n",
    "    experiment_data = json.load(f)"
   ],
   "id": "94843c8c0ccce73f",
   "outputs": [],
   "execution_count": 32
  },
  {
   "metadata": {
    "ExecuteTime": {
     "end_time": "2025-08-28T18:34:07.345949Z",
     "start_time": "2025-08-28T18:34:07.342069Z"
    }
   },
   "cell_type": "code",
   "source": "print(experiment_data.keys())",
   "id": "b4221facf5bc88e6",
   "outputs": [
    {
     "name": "stdout",
     "output_type": "stream",
     "text": [
      "dict_keys(['cfg', 'total_rounds', 'round_val_stats', 'final_pool_stats', 'final_test_stats'])\n"
     ]
    }
   ],
   "execution_count": 33
  },
  {
   "metadata": {
    "ExecuteTime": {
     "end_time": "2025-08-28T18:35:02.979535Z",
     "start_time": "2025-08-28T18:35:02.974235Z"
    }
   },
   "cell_type": "code",
   "source": "experiment_data['cfg']",
   "id": "63253569c2715cd4",
   "outputs": [
    {
     "data": {
      "text/plain": [
       "{'seed': 42,\n",
       " 'total_rounds': 5,\n",
       " 'initial_pool_size': 100,\n",
       " 'acquisition_batch_size': 16,\n",
       " 'sampler_class': 'RandomSampler',\n",
       " 'sampler_kwargs': {'seed': 42},\n",
       " 'strategy_class': 'FineTuneStrategy',\n",
       " 'strategy_kwargs': {},\n",
       " 'model_class': 'SimpleTextClassifier',\n",
       " 'model_kwargs': {'hidden_dim': 32, 'num_classes': 4},\n",
       " 'optimizer_class': 'Adam',\n",
       " 'optimizer_kwargs': {'lr': 0.001},\n",
       " 'criterion_class': 'CrossEntropyLoss',\n",
       " 'criterion_kwargs': {},\n",
       " 'scheduler_class': 'StepLR',\n",
       " 'scheduler_kwargs': {'step_size': 10, 'gamma': 0.1},\n",
       " 'device': 'cuda',\n",
       " 'epochs': 3,\n",
       " 'batch_size': 8,\n",
       " 'data': 'agnews',\n",
       " 'save_dir': 'experiments',\n",
       " 'experiment_name': 'dummy_test_pipeline'}"
      ]
     },
     "execution_count": 40,
     "metadata": {},
     "output_type": "execute_result"
    }
   ],
   "execution_count": 40
  },
  {
   "metadata": {
    "ExecuteTime": {
     "end_time": "2025-08-28T18:35:03.345136Z",
     "start_time": "2025-08-28T18:35:03.341897Z"
    }
   },
   "cell_type": "code",
   "source": "experiment_data['total_rounds']",
   "id": "2e45af560a7164f0",
   "outputs": [
    {
     "data": {
      "text/plain": [
       "5"
      ]
     },
     "execution_count": 41,
     "metadata": {},
     "output_type": "execute_result"
    }
   ],
   "execution_count": 41
  },
  {
   "metadata": {
    "ExecuteTime": {
     "end_time": "2025-08-28T18:35:32.443735Z",
     "start_time": "2025-08-28T18:35:32.440266Z"
    }
   },
   "cell_type": "code",
   "source": "experiment_data['round_val_stats'][-1]",
   "id": "bd769b5d17ffa236",
   "outputs": [
    {
     "data": {
      "text/plain": [
       "{'training_time': 0.05011439323425293,\n",
       " 'avg_loss': 11.27958299243261,\n",
       " 'epochs': 3,\n",
       " 'total_samples': 164,\n",
       " 'new_samples': 16,\n",
       " 'loss': 2.7253062326510746,\n",
       " 'f1_score': 0.2082740227777865,\n",
       " 'accuracy': 0.28041666666666665,\n",
       " 'pool_stats': {'labeled_count': 164,\n",
       "  'unlabeled_count': 107836,\n",
       "  'total_count': 108000}}"
      ]
     },
     "execution_count": 45,
     "metadata": {},
     "output_type": "execute_result"
    }
   ],
   "execution_count": 45
  },
  {
   "metadata": {
    "ExecuteTime": {
     "end_time": "2025-08-28T18:35:58.381630Z",
     "start_time": "2025-08-28T18:35:58.377363Z"
    }
   },
   "cell_type": "code",
   "source": "experiment_data[\"final_pool_stats\"]",
   "id": "1ae22899026cd37d",
   "outputs": [
    {
     "data": {
      "text/plain": [
       "{'labeled_count': 164, 'unlabeled_count': 107836, 'total_count': 108000}"
      ]
     },
     "execution_count": 48,
     "metadata": {},
     "output_type": "execute_result"
    }
   ],
   "execution_count": 48
  },
  {
   "metadata": {
    "ExecuteTime": {
     "end_time": "2025-08-28T18:35:59.299143Z",
     "start_time": "2025-08-28T18:35:59.295207Z"
    }
   },
   "cell_type": "code",
   "source": "experiment_data[\"final_test_stats\"]",
   "id": "f3ff7f1ae7f58d9b",
   "outputs": [
    {
     "data": {
      "text/plain": [
       "{'loss': 2.7029831030494287,\n",
       " 'f1_score': 0.20674316975453216,\n",
       " 'accuracy': 0.2811842105263158}"
      ]
     },
     "execution_count": 49,
     "metadata": {},
     "output_type": "execute_result"
    }
   ],
   "execution_count": 49
  },
  {
   "metadata": {},
   "cell_type": "code",
   "outputs": [],
   "execution_count": null,
   "source": "",
   "id": "485a0c36ff2d07c5"
  }
 ],
 "metadata": {
  "kernelspec": {
   "display_name": "Python 3",
   "language": "python",
   "name": "python3"
  },
  "language_info": {
   "codemirror_mode": {
    "name": "ipython",
    "version": 2
   },
   "file_extension": ".py",
   "mimetype": "text/x-python",
   "name": "python",
   "nbconvert_exporter": "python",
   "pygments_lexer": "ipython2",
   "version": "2.7.6"
  }
 },
 "nbformat": 4,
 "nbformat_minor": 5
}
